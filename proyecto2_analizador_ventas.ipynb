{
 "cells": [
  {
   "cell_type": "markdown",
   "id": "7b2fa868",
   "metadata": {},
   "source": [
    "### **Analizador de ventas**\n",
    "\n",
    "#### **Objetivo**\n",
    "\n",
    "Crear un programa en Python que analice un **conjunto de datos de ventas de una tienda**. El programa debe realizar varias operaciones de Data Science para proporcionar información valiosa sobre las ventas de la tienda.\n",
    "\n",
    "#### **Consigna**\n",
    "\n",
    "1. **Lectura de Datos**: Crear un DataFrame que contenga los datos del archivo Datos_Ventas_Tienda.csv, el cual incluirá información como fecha de venta, categoría de producto, cantidad vendida y precio.\n",
    "2. **Fusión de Datos**: Crear un segundo DataFrame que contenga los datos del archivo Datos_Ventas_Tienda2.csv, y concatenarlos para tener un solo DataFrame con toda la información.\n",
    "3. **Tratamiento de Datos**: Utilizar Pandas para manipular estos datos y realizar tareas como limpieza, filtrado y transformaciones básicas de datos.\n",
    "4. **Análisis de ventas**: Realizar un análisis para responder preguntas como:\n",
    "\n",
    "- ¿Cuál es el departamento con más ventas?\n",
    "- ¿Cuál es el mes con más ventas?\n",
    "\n",
    "5. **Datos agrupados**: Agrupar los datos por categoría de producto y analiza las ventas por categoría.\n",
    "6. **Guardar resultados**: Al final, se guardará el DataFrame completo (incluyendo la columna de meses) en un archivo .csv en el ordenador.\n"
   ]
  },
  {
   "cell_type": "code",
   "execution_count": 2,
   "id": "250fdb87",
   "metadata": {},
   "outputs": [
    {
     "name": "stdout",
     "output_type": "stream",
     "text": [
      "📊 Ventas por departamento (ordenadas):\n",
      " departamento\n",
      "Electrónica    244000.0\n",
      "Ropa            56400.0\n",
      "Juguetes        33390.0\n",
      "Libros          20840.0\n",
      "Alimentos       12620.0\n",
      "Name: total_venta, dtype: float64 \n",
      "\n",
      "📅 Ventas por mes (ordenadas):\n",
      " mes\n",
      "August       45090.0\n",
      "January      43030.0\n",
      "May          39380.0\n",
      "December     33560.0\n",
      "June         30520.0\n",
      "February     28410.0\n",
      "September    27870.0\n",
      "July         26350.0\n",
      "October      25610.0\n",
      "April        23210.0\n",
      "March        23200.0\n",
      "November     21020.0\n",
      "Name: total_venta, dtype: float64\n"
     ]
    }
   ],
   "source": [
    "import pandas as pd\n",
    "\n",
    "# ====================== #\n",
    "#   CARGA Y UNIÓN DE DATOS\n",
    "# ====================== #\n",
    "\n",
    "# Carga los archivos CSV con los datos de ventas.\n",
    "df1 = pd.read_csv(\"Datos_Ventas_Tienda.csv\")\n",
    "df2 = pd.read_csv(\"Datos_Ventas_Tienda2.csv\")\n",
    "\n",
    "# Une los dos DataFrames en uno solo.\n",
    "df = pd.concat([df1, df2], ignore_index=True)\n",
    "\n",
    "# ====================== #\n",
    "#   LIMPIEZA Y TRANSFORMACIÓN\n",
    "# ====================== #\n",
    "\n",
    "# Estandariza los nombres de las columnas: minúsculas y con guiones bajos.\n",
    "df.columns = df.columns.str.lower().str.replace(\" \", \"_\")\n",
    "\n",
    "# Convierte las columnas \"precio_unitario\" y \"total_venta\" a tipo float.\n",
    "df[[\"precio_unitario\", \"total_venta\"]] = df[[\"precio_unitario\", \"total_venta\"]].astype(\"float\")\n",
    "\n",
    "# Renombra la columna \"producto\" a \"departamento\".\n",
    "df = df.rename(columns={\"producto\": \"departamento\"})\n",
    "\n",
    "# Corrige error de escritura en el nombre del departamento.\n",
    "df[\"departamento\"] = df[\"departamento\"].replace(\"Electrónic\", \"Electrónica\")\n",
    "\n",
    "# Convierte la columna \"fecha\" a formato datetime.\n",
    "df[\"fecha\"] = pd.to_datetime(df[\"fecha\"], format=\"%m/%d/%Y\")\n",
    "\n",
    "# Extrae el nombre del mes y lo guarda en la columna \"mes\".\n",
    "df[\"mes\"] = df[\"fecha\"].dt.month_name()\n",
    "\n",
    "# ====================== #\n",
    "#   ANÁLISIS DE VENTAS\n",
    "# ====================== #\n",
    "\n",
    "# Agrupa las ventas por departamento, suma el total vendido y ordena de mayor a menor.\n",
    "ventas_por_depto = df.groupby(\"departamento\")[\"total_venta\"].sum().sort_values(ascending=False)\n",
    "# Agrupa las ventas por mes, suma el total vendido y ordena de mayor a menor.\n",
    "ventas_por_mes = df.groupby(\"mes\")[\"total_venta\"].sum().sort_values(ascending=False)\n",
    "\n",
    "# ====================== #\n",
    "#   EXPORTAR DATA LIMPIA\n",
    "# ====================== #\n",
    "\n",
    "# Guarda el DataFrame final en un archivo CSV\n",
    "df.to_csv(\"ventas_limpias.csv\", index=False)\n",
    "\n",
    "# ====================== #\n",
    "#   RESULTADOS\n",
    "# ====================== #\n",
    "\n",
    "# Imprime los resultados.\n",
    "print(\"📊 Ventas por departamento (ordenadas):\\n\", ventas_por_depto, \"\\n\")\n",
    "print(\"📅 Ventas por mes (ordenadas):\\n\", ventas_por_mes)"
   ]
  },
  {
   "cell_type": "markdown",
   "id": "9711f8b4",
   "metadata": {},
   "source": [
    "### **Respuestas**\n",
    "\n",
    "- ¿Cuál es el departamento con más ventas?  \n",
    "  R.- El departamento de Electrónica, con un total de $244,000.00\n",
    "\n",
    "- ¿Cuál es el mes con más ventas?  \n",
    "  R.- Agosto, con un total de $45,090.00\n"
   ]
  },
  {
   "cell_type": "markdown",
   "id": "9b46cd4c",
   "metadata": {},
   "source": []
  }
 ],
 "metadata": {
  "kernelspec": {
   "display_name": "base",
   "language": "python",
   "name": "python3"
  },
  "language_info": {
   "codemirror_mode": {
    "name": "ipython",
    "version": 3
   },
   "file_extension": ".py",
   "mimetype": "text/x-python",
   "name": "python",
   "nbconvert_exporter": "python",
   "pygments_lexer": "ipython3",
   "version": "3.12.4"
  }
 },
 "nbformat": 4,
 "nbformat_minor": 5
}
